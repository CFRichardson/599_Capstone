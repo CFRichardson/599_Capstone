{
 "cells": [
  {
   "cell_type": "code",
   "execution_count": 2,
   "metadata": {},
   "outputs": [],
   "source": [
    "import os\n",
    "import pandas as pd"
   ]
  },
  {
   "cell_type": "code",
   "execution_count": 14,
   "metadata": {},
   "outputs": [
    {
     "data": {
      "text/html": [
       "<div>\n",
       "<style scoped>\n",
       "    .dataframe tbody tr th:only-of-type {\n",
       "        vertical-align: middle;\n",
       "    }\n",
       "\n",
       "    .dataframe tbody tr th {\n",
       "        vertical-align: top;\n",
       "    }\n",
       "\n",
       "    .dataframe thead th {\n",
       "        text-align: right;\n",
       "    }\n",
       "</style>\n",
       "<table border=\"1\" class=\"dataframe\">\n",
       "  <thead>\n",
       "    <tr style=\"text-align: right;\">\n",
       "      <th></th>\n",
       "      <th>Date</th>\n",
       "      <th>ppt (inches)</th>\n",
       "      <th>tmin (degrees F)</th>\n",
       "      <th>tmean (degrees F)</th>\n",
       "      <th>tmax (degrees F)</th>\n",
       "      <th>tdmean (degrees F)</th>\n",
       "      <th>vpdmin (hPa)</th>\n",
       "      <th>vpdmax (hPa)</th>\n",
       "    </tr>\n",
       "  </thead>\n",
       "  <tbody>\n",
       "    <tr>\n",
       "      <th>0</th>\n",
       "      <td>2018-01-01</td>\n",
       "      <td>0.0</td>\n",
       "      <td>48.3</td>\n",
       "      <td>58.5</td>\n",
       "      <td>68.6</td>\n",
       "      <td>46.8</td>\n",
       "      <td>0.85</td>\n",
       "      <td>13.58</td>\n",
       "    </tr>\n",
       "    <tr>\n",
       "      <th>1</th>\n",
       "      <td>2018-01-02</td>\n",
       "      <td>0.0</td>\n",
       "      <td>47.2</td>\n",
       "      <td>58.1</td>\n",
       "      <td>69.0</td>\n",
       "      <td>49.6</td>\n",
       "      <td>0.58</td>\n",
       "      <td>12.35</td>\n",
       "    </tr>\n",
       "    <tr>\n",
       "      <th>2</th>\n",
       "      <td>2018-01-03</td>\n",
       "      <td>0.0</td>\n",
       "      <td>53.0</td>\n",
       "      <td>64.9</td>\n",
       "      <td>76.9</td>\n",
       "      <td>49.0</td>\n",
       "      <td>1.04</td>\n",
       "      <td>20.79</td>\n",
       "    </tr>\n",
       "    <tr>\n",
       "      <th>3</th>\n",
       "      <td>2018-01-04</td>\n",
       "      <td>0.0</td>\n",
       "      <td>53.7</td>\n",
       "      <td>63.5</td>\n",
       "      <td>73.3</td>\n",
       "      <td>50.4</td>\n",
       "      <td>0.96</td>\n",
       "      <td>17.20</td>\n",
       "    </tr>\n",
       "    <tr>\n",
       "      <th>4</th>\n",
       "      <td>2018-01-05</td>\n",
       "      <td>0.0</td>\n",
       "      <td>51.8</td>\n",
       "      <td>64.2</td>\n",
       "      <td>76.7</td>\n",
       "      <td>44.6</td>\n",
       "      <td>1.53</td>\n",
       "      <td>23.04</td>\n",
       "    </tr>\n",
       "  </tbody>\n",
       "</table>\n",
       "</div>"
      ],
      "text/plain": [
       "         Date  ppt (inches)  tmin (degrees F)  tmean (degrees F)  \\\n",
       "0  2018-01-01           0.0              48.3               58.5   \n",
       "1  2018-01-02           0.0              47.2               58.1   \n",
       "2  2018-01-03           0.0              53.0               64.9   \n",
       "3  2018-01-04           0.0              53.7               63.5   \n",
       "4  2018-01-05           0.0              51.8               64.2   \n",
       "\n",
       "   tmax (degrees F)  tdmean (degrees F)  vpdmin (hPa)  vpdmax (hPa)  \n",
       "0              68.6                46.8          0.85         13.58  \n",
       "1              69.0                49.6          0.58         12.35  \n",
       "2              76.9                49.0          1.04         20.79  \n",
       "3              73.3                50.4          0.96         17.20  \n",
       "4              76.7                44.6          1.53         23.04  "
      ]
     },
     "execution_count": 14,
     "metadata": {},
     "output_type": "execute_result"
    }
   ],
   "source": [
    "path_ = '/Volumes/GoogleDrive/My Drive/_599/Capstone/Data/Weather/PRISM_ppt_tmin_tmean_tmax_tdmean_vpdmin_vpdmax_provisional_4km_20180101_20220928_32.8355_-117.1529.csv'\n",
    "df = pd.read_csv(path_, skiprows=10, engine='python')\n",
    "df.head()"
   ]
  },
  {
   "cell_type": "code",
   "execution_count": 16,
   "metadata": {},
   "outputs": [
    {
     "data": {
      "text/html": [
       "<div>\n",
       "<style scoped>\n",
       "    .dataframe tbody tr th:only-of-type {\n",
       "        vertical-align: middle;\n",
       "    }\n",
       "\n",
       "    .dataframe tbody tr th {\n",
       "        vertical-align: top;\n",
       "    }\n",
       "\n",
       "    .dataframe thead th {\n",
       "        text-align: right;\n",
       "    }\n",
       "</style>\n",
       "<table border=\"1\" class=\"dataframe\">\n",
       "  <thead>\n",
       "    <tr style=\"text-align: right;\">\n",
       "      <th></th>\n",
       "      <th>date</th>\n",
       "      <th>tmin</th>\n",
       "      <th>tmax</th>\n",
       "    </tr>\n",
       "  </thead>\n",
       "  <tbody>\n",
       "    <tr>\n",
       "      <th>0</th>\n",
       "      <td>2018-01-01</td>\n",
       "      <td>48.3</td>\n",
       "      <td>68.6</td>\n",
       "    </tr>\n",
       "    <tr>\n",
       "      <th>1</th>\n",
       "      <td>2018-01-02</td>\n",
       "      <td>47.2</td>\n",
       "      <td>69.0</td>\n",
       "    </tr>\n",
       "    <tr>\n",
       "      <th>2</th>\n",
       "      <td>2018-01-03</td>\n",
       "      <td>53.0</td>\n",
       "      <td>76.9</td>\n",
       "    </tr>\n",
       "    <tr>\n",
       "      <th>3</th>\n",
       "      <td>2018-01-04</td>\n",
       "      <td>53.7</td>\n",
       "      <td>73.3</td>\n",
       "    </tr>\n",
       "    <tr>\n",
       "      <th>4</th>\n",
       "      <td>2018-01-05</td>\n",
       "      <td>51.8</td>\n",
       "      <td>76.7</td>\n",
       "    </tr>\n",
       "  </tbody>\n",
       "</table>\n",
       "</div>"
      ],
      "text/plain": [
       "         date  tmin  tmax\n",
       "0  2018-01-01  48.3  68.6\n",
       "1  2018-01-02  47.2  69.0\n",
       "2  2018-01-03  53.0  76.9\n",
       "3  2018-01-04  53.7  73.3\n",
       "4  2018-01-05  51.8  76.7"
      ]
     },
     "execution_count": 16,
     "metadata": {},
     "output_type": "execute_result"
    }
   ],
   "source": [
    "df = df[['Date','tmin (degrees F)','tmax (degrees F)']]\n",
    "df = df.rename(columns={'Date':'date','tmin (degrees F)':'tmin','tmax (degrees F)':'tmax'})\n",
    "df.head()"
   ]
  },
  {
   "cell_type": "code",
   "execution_count": 17,
   "metadata": {},
   "outputs": [],
   "source": [
    "path_ = '/Volumes/GoogleDrive/My Drive/_599/Capstone/Data/Weather/central_sd.csv'\n",
    "df.to_csv(path_)"
   ]
  },
  {
   "cell_type": "code",
   "execution_count": null,
   "metadata": {},
   "outputs": [],
   "source": []
  }
 ],
 "metadata": {
  "kernelspec": {
   "display_name": "Python 3.9.12 ('dsOne')",
   "language": "python",
   "name": "python3"
  },
  "language_info": {
   "codemirror_mode": {
    "name": "ipython",
    "version": 3
   },
   "file_extension": ".py",
   "mimetype": "text/x-python",
   "name": "python",
   "nbconvert_exporter": "python",
   "pygments_lexer": "ipython3",
   "version": "3.9.12"
  },
  "orig_nbformat": 4,
  "vscode": {
   "interpreter": {
    "hash": "ecdf9061e3d092d85dd204129c8cdf4bfa6c912f3431741b18457c68aad5f080"
   }
  }
 },
 "nbformat": 4,
 "nbformat_minor": 2
}
